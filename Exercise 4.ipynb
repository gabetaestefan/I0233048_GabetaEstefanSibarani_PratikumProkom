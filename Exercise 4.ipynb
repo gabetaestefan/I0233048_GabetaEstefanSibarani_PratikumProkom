{
 "cells": [
  {
   "cell_type": "code",
   "execution_count": 2,
   "metadata": {},
   "outputs": [
    {
     "name": "stdout",
     "output_type": "stream",
     "text": [
      "gabeta estefan\n",
      "I0322048\n",
      "B\n"
     ]
    }
   ],
   "source": [
    "print(input(\"Nama: \"))\n",
    "print(input(\"NIM: \"))\n",
    "print(input(\"Kelas: \"))"
   ]
  },
  {
   "attachments": {},
   "cell_type": "markdown",
   "metadata": {},
   "source": [
    "## 1."
   ]
  },
  {
   "attachments": {},
   "cell_type": "markdown",
   "metadata": {},
   "source": [
    "Buatlah program yang meminta input string dari user, kemudian program akan menentukan string tersebut adalah palyndrome atau bukan.<br>\n",
    "* Palyndrome adalah kata atau kalimat yang jika dibalik hasilnya sama\n",
    "* kasur rusak adalah palyndrome\n",
    "\n",
    "> *note: Kerjakan soal ini dengan percabangan*"
   ]
  },
  {
   "cell_type": "code",
   "execution_count": 1,
   "metadata": {},
   "outputs": [
    {
     "name": "stdout",
     "output_type": "stream",
     "text": [
      "saya lapar banget merupakan bukan kalimat palyndrome\n"
     ]
    }
   ],
   "source": [
    "# Kerjakan soal no 1 di sini\n",
    "kalimat = str(input(\"masukkan kalimat palyndrome:\"))\n",
    "hasil = kalimat[::-1]\n",
    "\n",
    "if kalimat == hasil:\n",
    "    print(kalimat, \"merupakan kalimat palyndrome\")\n",
    "else:\n",
    "    print(kalimat, \"merupakan bukan kalimat palyndrome\")"
   ]
  },
  {
   "attachments": {},
   "cell_type": "markdown",
   "metadata": {},
   "source": [
    "## 2."
   ]
  },
  {
   "attachments": {},
   "cell_type": "markdown",
   "metadata": {},
   "source": [
    "Buatlah program yang meminta input berupa tahun dan bulan kemudian tampilkan jumlah hari pada bulan tersebut (perbedaan pada tahun kabisat).<br>\n",
    "\n",
    "> *note: Kerjakan soal ini dengan percabangan*"
   ]
  },
  {
   "cell_type": "code",
   "execution_count": 3,
   "metadata": {},
   "outputs": [
    {
     "name": "stdout",
     "output_type": "stream",
     "text": [
      "jumlah hari bulan agustus pada tahun 2004 adalah 31\n"
     ]
    }
   ],
   "source": [
    "# Kerjakan soal no 2 di sini\n",
    "# Kerjakan soal no 2 di sini\n",
    "tahun = int(input(\"masukkan tahun:\"))\n",
    "bulan1 = str(input(\"masukkan nama bulan:\"))\n",
    "bulan2 = bulan1.lower()\n",
    "periksa = {\n",
    "    'tahun kabisat':{\n",
    "    'januari':31,'februari':29, 'maret':31,'april':30,'mei':31,'juni':30,\n",
    "    'juli':31, 'agustus':31, 'september':30, 'oktober':31, 'november':30, 'desember':31\n",
    "    },\n",
    "    'tahun normal':{\n",
    "    'januari':31,'februari':28, 'maret':31,'april':30,'mei':31,'juni':30,\n",
    "    'juli':31, 'agustus':31, 'september':30, 'oktober':31, 'november':30, 'desember':31\n",
    "    }\n",
    "}\n",
    "\n",
    "if tahun % 4 == 0 and (tahun % 100 != 0 or tahun % 400 == 0 ):\n",
    "    print('jumlah hari bulan', bulan1,'pada tahun', tahun, 'adalah', periksa['tahun kabisat'][bulan2])\n",
    "else:\n",
    "    print('jumlah hari bulan', bulan1,'pada tahun', tahun, 'adalah', periksa['tahun normal'][bulan2])\n"
   ]
  }
 ],
 "metadata": {
  "kernelspec": {
   "display_name": "Python 3",
   "language": "python",
   "name": "python3"
  },
  "language_info": {
   "codemirror_mode": {
    "name": "ipython",
    "version": 3
   },
   "file_extension": ".py",
   "mimetype": "text/x-python",
   "name": "python",
   "nbconvert_exporter": "python",
   "pygments_lexer": "ipython3",
   "version": "3.11.2"
  },
  "orig_nbformat": 4
 },
 "nbformat": 4,
 "nbformat_minor": 2
}
