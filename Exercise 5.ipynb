{
 "cells": [
  {
   "attachments": {},
   "cell_type": "markdown",
   "metadata": {},
   "source": [
    "1. Diberikan List sebagai berikut!"
   ]
  },
  {
   "cell_type": "code",
   "execution_count": null,
   "metadata": {},
   "outputs": [],
   "source": [
    "list1 = ['a','b','c']\n",
    "list1 = ['c','d','e']"
   ]
  },
  {
   "attachments": {},
   "cell_type": "markdown",
   "metadata": {},
   "source": [
    "Buatlah program pengulangan untuk menampilkan elemen dalam kedua list tersebut yang sama! (Contoh Output \"Nilai yang sama adalah 'C'\")"
   ]
  },
  {
   "cell_type": "code",
   "execution_count": 1,
   "metadata": {},
   "outputs": [
    {
     "name": "stdout",
     "output_type": "stream",
     "text": [
      "nilai yang sama adalah: c\n"
     ]
    }
   ],
   "source": [
    "# Kerjakan nomor 1 di sini\n",
    "list1 = ['a','b','c']\n",
    "list2 = ['c','d','e']\n",
    "for huruf in list1:\n",
    "    if huruf in list2:\n",
    "        print('nilai yang sama adalah:', huruf)"
   ]
  },
  {
   "attachments": {},
   "cell_type": "markdown",
   "metadata": {},
   "source": [
    "2. Buatlah sebuah list yang berisi daftar mata kuliah di Teknik Industri UNS (minimal 10 matkul). Kemudian buat program pencarian menggunakan pengulangan. Apabila nama matkul yang user inputkan sudah sesuai dengan isi list maka program akan berhenti dan menampilkan output \"Mata Kuliah (matkul yang diinput user) adalah mata kuliah di Teknik Industri UNS\"."
   ]
  },
  {
   "cell_type": "code",
   "execution_count": 2,
   "metadata": {},
   "outputs": [
    {
     "name": "stdout",
     "output_type": "stream",
     "text": [
      "Bukan mata kuliah di Teknik Industri UNS\n",
      "Mata Kuliah prd adalah mata kuliah di Teknik industri UNS\n"
     ]
    }
   ],
   "source": [
    "# Kerjakan nomor 2 di sini\n",
    "matkul =['fisika dasar 1',\n",
    "         'prd',\n",
    "         'mekanika teknik',\n",
    "         'psikologi industri',\n",
    "         'kalkulus',\n",
    "         'aeb',\n",
    "         'programa komputer',\n",
    "         'material teknik',\n",
    "         'biologi',\n",
    "         'kimia dasar'\n",
    "]\n",
    "cek1 = 0\n",
    "cekmax = 3\n",
    "while cek1 < cekmax:\n",
    "    cekmatkul = input('Masukkan nama mata kuliah:')\n",
    "    cek1 += 1\n",
    "    if cekmatkul in matkul:\n",
    "        print('Mata Kuliah', cekmatkul, 'adalah mata kuliah di Teknik industri UNS')\n",
    "        break\n",
    "    else:\n",
    "        print('Bukan mata kuliah di Teknik Industri UNS')\n",
    "else:\n",
    "    print('Anda tidak mengetahui mata kuliah di Teknik Industri UNS')"
   ]
  },
  {
   "attachments": {},
   "cell_type": "markdown",
   "metadata": {},
   "source": [
    "3. Buatlah program untuk menampilkan faktorial dari suatu bilangan dimana bilangan tersebut didapat melalui input user!"
   ]
  },
  {
   "cell_type": "code",
   "execution_count": 3,
   "metadata": {},
   "outputs": [
    {
     "name": "stdout",
     "output_type": "stream",
     "text": [
      " faktorial dari 99 adalah 933262154439441526816992388562667004907159682643816214685929638952175999932299156089414639761565182862536979208272237582511852109168640000000000000000000000\n"
     ]
    }
   ],
   "source": [
    "# Kerjakan nomor 3 di sini\n",
    "n = int(input('masukkan angka:'))\n",
    "\n",
    "fact = 1\n",
    "\n",
    "for x in range(1, n+1):\n",
    "    fact = fact * x\n",
    "\n",
    "print(' faktorial dari ' + str(n) + ' adalah ' + str(fact))"
   ]
  }
 ],
 "metadata": {
  "kernelspec": {
   "display_name": "Python 3",
   "language": "python",
   "name": "python3"
  },
  "language_info": {
   "codemirror_mode": {
    "name": "ipython",
    "version": 3
   },
   "file_extension": ".py",
   "mimetype": "text/x-python",
   "name": "python",
   "nbconvert_exporter": "python",
   "pygments_lexer": "ipython3",
   "version": "3.11.2"
  },
  "orig_nbformat": 4
 },
 "nbformat": 4,
 "nbformat_minor": 2
}
